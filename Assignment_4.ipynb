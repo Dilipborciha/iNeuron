{
  "nbformat": 4,
  "nbformat_minor": 0,
  "metadata": {
    "colab": {
      "provenance": [],
      "authorship_tag": "ABX9TyP+cxTqa7ijfoEW8+SxtuLT"
    },
    "kernelspec": {
      "name": "python3",
      "display_name": "Python 3"
    },
    "language_info": {
      "name": "python"
    }
  },
  "cells": [
    {
      "cell_type": "markdown",
      "source": [
        "1. What exactly is []?\n",
        "\n",
        "Answer >\n",
        "\n",
        ">?It represents an empty list, which does not contain any value."
      ],
      "metadata": {
        "id": "O_GgHY09jZsg"
      }
    },
    {
      "cell_type": "markdown",
      "source": [
        "2. In a list of values stored in a variable called spam, how would you assign the value &#39;hello&#39; as the\n",
        "third value? (Assume [2, 4, 6, 8, 10] are in spam.)\n",
        "\n",
        "Answer >"
      ],
      "metadata": {
        "id": "oHYXdZk8kGX0"
      }
    },
    {
      "cell_type": "code",
      "execution_count": null,
      "metadata": {
        "colab": {
          "base_uri": "https://localhost:8080/"
        },
        "id": "6GPoR-dlgKUW",
        "outputId": "877101f1-7ace-4be7-8b30-11dc758b7171"
      },
      "outputs": [
        {
          "output_type": "execute_result",
          "data": {
            "text/plain": [
              "[2, 4, 'hello', 8, 10]"
            ]
          },
          "metadata": {},
          "execution_count": 1
        }
      ],
      "source": [
        "spam = [2, 4, 6, 8, 10]\n",
        "spam [2] = \"hello\"\n",
        "spam\n"
      ]
    },
    {
      "cell_type": "markdown",
      "source": [
        "# Let&#39;s pretend the spam includes the list [&#39;a&#39;, &#39;b&#39;, &#39;c&#39;, &#39;d&#39;] for the next three queries(Q.3,Q.4,Q.5)."
      ],
      "metadata": {
        "id": "GpMqyseNk56w"
      }
    },
    {
      "cell_type": "code",
      "source": [
        "spam = ['a', 'b', 'c', 'd'] # spam value for the next three queries(Q.3,Q.4,Q.5)."
      ],
      "metadata": {
        "id": "49EtB1ad_w_l"
      },
      "execution_count": null,
      "outputs": []
    },
    {
      "cell_type": "markdown",
      "source": [
        "3. What is the value of spam[int(int(&#39;3&#39; * 2) / 11)]?\n",
        "\n",
        "Answer >\n",
        "\n"
      ],
      "metadata": {
        "id": "d7z6PG7WlChq"
      }
    },
    {
      "cell_type": "code",
      "source": [
        "# spam=['a','b','c','d']\n",
        "spam[int(int('3'*2)/11)]  # Spam '3' is string so '3'*2 = 33, next code execute 33/11 = 3, so spam [3]"
      ],
      "metadata": {
        "colab": {
          "base_uri": "https://localhost:8080/",
          "height": 36
        },
        "id": "mFoff3UAklTD",
        "outputId": "10ea82f0-5e9a-44d4-c42b-330d45143f43"
      },
      "execution_count": null,
      "outputs": [
        {
          "output_type": "execute_result",
          "data": {
            "text/plain": [
              "'d'"
            ],
            "application/vnd.google.colaboratory.intrinsic+json": {
              "type": "string"
            }
          },
          "metadata": {},
          "execution_count": 4
        }
      ]
    },
    {
      "cell_type": "markdown",
      "source": [
        ">Here 'd' because it gives vaulue correcsonding to index 3 in list spam[3]"
      ],
      "metadata": {
        "id": "BDOWMv6RB57v"
      }
    },
    {
      "cell_type": "markdown",
      "source": [
        "4. What is the value of spam[-1]?\n",
        "\n",
        "Answer >"
      ],
      "metadata": {
        "id": "2b7CHm-J_oy4"
      }
    },
    {
      "cell_type": "code",
      "source": [
        "spam[-1] # here code gives last element in list"
      ],
      "metadata": {
        "colab": {
          "base_uri": "https://localhost:8080/",
          "height": 36
        },
        "id": "IFyOyVMAlvq5",
        "outputId": "8068a35a-2027-4021-a6dc-68f3eec8ddec"
      },
      "execution_count": null,
      "outputs": [
        {
          "output_type": "execute_result",
          "data": {
            "text/plain": [
              "'d'"
            ],
            "application/vnd.google.colaboratory.intrinsic+json": {
              "type": "string"
            }
          },
          "metadata": {},
          "execution_count": 5
        }
      ]
    },
    {
      "cell_type": "markdown",
      "source": [
        "5. What is the value of spam[:2]?\n",
        "\n",
        "Answer >"
      ],
      "metadata": {
        "id": "eOl4uF8_ADjz"
      }
    },
    {
      "cell_type": "code",
      "source": [
        "spam[:2]   # here code gives list element from index 0 to 1 excluding upper bound 2."
      ],
      "metadata": {
        "id": "nziMPMWqmPTG",
        "colab": {
          "base_uri": "https://localhost:8080/"
        },
        "outputId": "7987cb62-c966-402a-fd39-85650fa0f8f2"
      },
      "execution_count": null,
      "outputs": [
        {
          "output_type": "execute_result",
          "data": {
            "text/plain": [
              "['a', 'b']"
            ]
          },
          "metadata": {},
          "execution_count": 7
        }
      ]
    },
    {
      "cell_type": "markdown",
      "source": [
        "# Let's pretend bacon has the list [3.14, 'cat,' 11, 'cat,' True] for the next three questions(Q.6,Q.7,Q.8)."
      ],
      "metadata": {
        "id": "l4_gsQwTAW5B"
      }
    },
    {
      "cell_type": "code",
      "source": [
        " bacon = [3.14, 'cat', 11, 'cat', True]  # take bacon value for the next three questions(Q.6,Q.7,Q.8)."
      ],
      "metadata": {
        "id": "ezmOi0fJARPc"
      },
      "execution_count": null,
      "outputs": []
    },
    {
      "cell_type": "markdown",
      "source": [
        "6. What is the value of bacon.index('cat')?\n",
        "\n",
        "Answer >\n"
      ],
      "metadata": {
        "id": "qYwCSv0nBYDN"
      }
    },
    {
      "cell_type": "code",
      "source": [
        "bacon.index('cat')"
      ],
      "metadata": {
        "colab": {
          "base_uri": "https://localhost:8080/"
        },
        "id": "p0vKmyaSBXZK",
        "outputId": "a6059ff5-483e-4a76-f0a4-56c441b35b92"
      },
      "execution_count": null,
      "outputs": [
        {
          "output_type": "execute_result",
          "data": {
            "text/plain": [
              "1"
            ]
          },
          "metadata": {},
          "execution_count": 10
        }
      ]
    },
    {
      "cell_type": "markdown",
      "source": [
        "7. How does bacon.append(99) change the look of the list value in bacon?\n",
        "\n",
        "Answer >\n"
      ],
      "metadata": {
        "id": "ej4i3K8MDdLC"
      }
    },
    {
      "cell_type": "code",
      "source": [
        "bacon.append(99) # its append means adding the value 99 in the end of the list\n",
        "print (bacon)\n"
      ],
      "metadata": {
        "colab": {
          "base_uri": "https://localhost:8080/"
        },
        "id": "7Vw-MwKlDiMJ",
        "outputId": "caa4df67-a1e2-49e6-9950-9038a3bd21e0"
      },
      "execution_count": null,
      "outputs": [
        {
          "output_type": "stream",
          "name": "stdout",
          "text": [
            "[3.14, 'cat', 11, 'cat', True, 99]\n"
          ]
        }
      ]
    },
    {
      "cell_type": "markdown",
      "source": [
        "8. How does bacon.remove('cat') change the look of the list in bacon?"
      ],
      "metadata": {
        "id": "WbqcmpeOEQxh"
      }
    },
    {
      "cell_type": "code",
      "source": [
        "bacon.remove('cat')\n",
        "# its remove string \"cat\" which is 1st one in the list..\n",
        "# if you write or run this code twice its remove both \"cat\"\n",
        "bacon"
      ],
      "metadata": {
        "colab": {
          "base_uri": "https://localhost:8080/"
        },
        "id": "cfTWDlAFC6lJ",
        "outputId": "db0e7476-bbaf-4ecd-f358-05d91500f906"
      },
      "execution_count": null,
      "outputs": [
        {
          "output_type": "execute_result",
          "data": {
            "text/plain": [
              "[3.14, 11, 'cat', True, 99]"
            ]
          },
          "metadata": {},
          "execution_count": 20
        }
      ]
    },
    {
      "cell_type": "markdown",
      "source": [
        "9. What are the list concatenation and list replication operators?\n",
        "\n",
        "\n",
        "Answer >\n",
        "> for list concatenation we use + while for replication use * operator."
      ],
      "metadata": {
        "id": "QDQHfCBLEu15"
      }
    },
    {
      "cell_type": "code",
      "source": [
        "a=[1,2,3]\n",
        "b=[7,8,9]\n",
        "\n",
        "a+b # result : [1, 2, 3, 7, 8, 9]"
      ],
      "metadata": {
        "colab": {
          "base_uri": "https://localhost:8080/"
        },
        "id": "jdZxVogREqOp",
        "outputId": "c96dbe1e-5dc5-4fa8-89a9-049393abf4a3"
      },
      "execution_count": null,
      "outputs": [
        {
          "output_type": "execute_result",
          "data": {
            "text/plain": [
              "[1, 2, 3, 7, 8, 9]"
            ]
          },
          "metadata": {},
          "execution_count": 21
        }
      ]
    },
    {
      "cell_type": "code",
      "source": [
        "a=['sweet','home']\n",
        "\n",
        "a * 2 # Result : ['sweet', 'home', 'sweet', 'home']"
      ],
      "metadata": {
        "colab": {
          "base_uri": "https://localhost:8080/"
        },
        "id": "j5cMbf-zFTdF",
        "outputId": "8003d0c0-2e4d-41c3-a813-069f1de5a12c"
      },
      "execution_count": null,
      "outputs": [
        {
          "output_type": "execute_result",
          "data": {
            "text/plain": [
              "['sweet', 'home', 'sweet', 'home']"
            ]
          },
          "metadata": {},
          "execution_count": 23
        }
      ]
    },
    {
      "cell_type": "markdown",
      "source": [
        "10. What is difference between the list methods append() and insert()?\n",
        "\n",
        "Answer >\n",
        " >append() can add only element to end of the list.\n",
        "\n",
        " >while insert() can add element any where in the list."
      ],
      "metadata": {
        "id": "cZ0k8Fc7GbRD"
      }
    },
    {
      "cell_type": "code",
      "source": [
        "a = [1, 2, 3]\n",
        "a.append(4) # example for append\n",
        "print(a)  # Result : [1, 2, 3, 4]"
      ],
      "metadata": {
        "colab": {
          "base_uri": "https://localhost:8080/"
        },
        "id": "fjYHKpQnHQKH",
        "outputId": "68f28aae-6f41-4594-8bf0-d8b36ce46415"
      },
      "execution_count": null,
      "outputs": [
        {
          "output_type": "stream",
          "name": "stdout",
          "text": [
            "[1, 2, 3, 4]\n"
          ]
        }
      ]
    },
    {
      "cell_type": "code",
      "source": [
        "frt = ['apple', 'orange']\n",
        "frt.insert(1, 'banana') # example of insert\n",
        "print(frt)  # Result : ['apple', 'banana', 'orange']"
      ],
      "metadata": {
        "colab": {
          "base_uri": "https://localhost:8080/"
        },
        "id": "pHDSP12kF647",
        "outputId": "9a900e1f-5c6c-45f4-e034-57865ca97d99"
      },
      "execution_count": null,
      "outputs": [
        {
          "output_type": "stream",
          "name": "stdout",
          "text": [
            "['apple', 'banana', 'orange']\n"
          ]
        }
      ]
    },
    {
      "cell_type": "markdown",
      "source": [
        "11. What are the two methods for removing items from a list?\n",
        "\n",
        "Answer >\n"
      ],
      "metadata": {
        "id": "nb_inljvIHAH"
      }
    },
    {
      "cell_type": "code",
      "source": [
        "# remove method for remove the items from a list\n",
        "frt = ['apple', 'banana', 'orange']\n",
        "frt.remove ('banana') # removing this item from given list\n",
        "print ( frt ) # Result : ['apple', 'orange']"
      ],
      "metadata": {
        "colab": {
          "base_uri": "https://localhost:8080/"
        },
        "id": "k52QzDN4H_gJ",
        "outputId": "4147ed23-9b2c-423b-b7c8-4f5d2dd3740c"
      },
      "execution_count": null,
      "outputs": [
        {
          "output_type": "stream",
          "name": "stdout",
          "text": [
            "['apple', 'orange']\n"
          ]
        }
      ]
    },
    {
      "cell_type": "code",
      "source": [
        "# pop method for remove the items by item_index\n",
        "\n",
        "dil = [1,2,3,4,5,6,7,8,9]\n",
        "dil.pop(5) # remove item from given list index 5 . in given list index 5 is shown item 6.\n",
        "print (dil) # [1, 2, 3, 4, 5, 7, 8, 9]\n"
      ],
      "metadata": {
        "colab": {
          "base_uri": "https://localhost:8080/"
        },
        "id": "4Zh8yjcZJcsO",
        "outputId": "f44dc785-e8a7-4609-b09b-e1974f3be688"
      },
      "execution_count": null,
      "outputs": [
        {
          "output_type": "stream",
          "name": "stdout",
          "text": [
            "[1, 2, 3, 4, 5, 7, 8, 9]\n"
          ]
        }
      ]
    },
    {
      "cell_type": "code",
      "source": [
        "# del fuction is also used for remove items from list\n",
        "\n",
        "dil = [1, 2, 3, 4, 5, 7, 8, 9]\n",
        "\n",
        "del dil[1] # # Delete a single element at a specific index"
      ],
      "metadata": {
        "id": "nSy0qHdZLfxu"
      },
      "execution_count": null,
      "outputs": []
    },
    {
      "cell_type": "code",
      "source": [
        "print (dil) # 2 is remove due to del fuction is process in this list\n",
        "# Result : [1, 3, 4, 5, 7, 8, 9]"
      ],
      "metadata": {
        "colab": {
          "base_uri": "https://localhost:8080/"
        },
        "id": "TW3F4QlvMJMC",
        "outputId": "e9ef1802-7029-4f82-ea0b-ecae904bd6a4"
      },
      "execution_count": null,
      "outputs": [
        {
          "output_type": "stream",
          "name": "stdout",
          "text": [
            "[1, 3, 4, 5, 7, 8, 9]\n"
          ]
        }
      ]
    },
    {
      "cell_type": "code",
      "source": [
        "del dil[4:6]# Delete a slice of elements from start_index to end_index (exclusive)\n",
        "print (dil) # remove the index 4 to 6. where 6 index is excluded.\n",
        "# result : [1, 3, 4, 5, 9]"
      ],
      "metadata": {
        "colab": {
          "base_uri": "https://localhost:8080/"
        },
        "id": "AV4c2GudMiTU",
        "outputId": "0d098fd8-68fe-4f6f-e404-cb649b10822e"
      },
      "execution_count": null,
      "outputs": [
        {
          "output_type": "stream",
          "name": "stdout",
          "text": [
            "[1, 3, 4, 5, 9]\n"
          ]
        }
      ]
    },
    {
      "cell_type": "markdown",
      "source": [
        "12. Describe how list values and string values are identical.\n",
        "\n",
        "Answer >\n",
        "\n",
        ">Similarities:\n",
        "*   Both lists and strings are sequences of elements.\n",
        "*   Elements in both can be accessed using indexing and slicing.\n",
        "*   Both have a length that can be obtained using len().\n",
        "\n",
        ">Differences:\n",
        "*   Lists are mutable; elements can be modified, added, or removed.\n",
        "*   Strings are immutable; their characters cannot be changed after creation.\n",
        "*   Lists have methods like append(), remove(), pop(), etc.\n",
        "*  Strings have methods like upper(), lower(), replace(), etc.\n"
      ],
      "metadata": {
        "id": "YrdVZ2jmLTau"
      }
    },
    {
      "cell_type": "markdown",
      "source": [
        "13. What's the difference between tuples and lists?\n",
        "\n",
        "Answer >\n",
        "\n",
        ">lists are mutable and allow for dynamic changes, while tuples are immutable and provide fixed data integrity.\n",
        "\n",
        ">Choose lists when you need to modify or extend the collection, and\n",
        "\n",
        ">use tuples when you want to ensure data remains constant throughout the program's execution."
      ],
      "metadata": {
        "id": "UdO33ElMyfZx"
      }
    },
    {
      "cell_type": "markdown",
      "source": [
        "14. How do you type a tuple value that only contains the integer 42?"
      ],
      "metadata": {
        "id": "coITWUUJzDdf"
      }
    },
    {
      "cell_type": "code",
      "source": [
        "# In tuple trailing comma mandatory.\n",
        "d = (42,)  #yes its mandatory to hve comma\n",
        "type(d) # o/p: tuple"
      ],
      "metadata": {
        "colab": {
          "base_uri": "https://localhost:8080/"
        },
        "id": "_LpV-xJAziNm",
        "outputId": "507ee9f6-f058-4970-9a6b-683701eb950f"
      },
      "execution_count": 3,
      "outputs": [
        {
          "output_type": "execute_result",
          "data": {
            "text/plain": [
              "tuple"
            ]
          },
          "metadata": {},
          "execution_count": 3
        }
      ]
    },
    {
      "cell_type": "markdown",
      "source": [
        "15. How do you get a list value&#39;s tuple form? How do you get a tuple value&#39;s list form?\n",
        "\n",
        "Answer >\n",
        "\n",
        "> you can use the tuple() function, which converts any iterable, such as a list, into a tuple."
      ],
      "metadata": {
        "id": "S2QEDwarzeVG"
      }
    },
    {
      "cell_type": "code",
      "source": [
        "# List value's in tuple form.\n",
        "l1 = [1, 2, 3, 4, 5]\n",
        "tpl = tuple(l1)\n",
        "print(tpl)  # o/p: (1, 2, 3, 4, 5)"
      ],
      "metadata": {
        "id": "IwFREYC5LGF_",
        "colab": {
          "base_uri": "https://localhost:8080/"
        },
        "outputId": "2eb9a067-3278-4f56-e9de-0bacef807d76"
      },
      "execution_count": 1,
      "outputs": [
        {
          "output_type": "stream",
          "name": "stdout",
          "text": [
            "(1, 2, 3, 4, 5)\n"
          ]
        }
      ]
    },
    {
      "cell_type": "markdown",
      "source": [
        ">you can use the list() function, which converts any iterable, including a tuple, into a list."
      ],
      "metadata": {
        "id": "SNNGw1Ky1Fej"
      }
    },
    {
      "cell_type": "code",
      "source": [
        "#  tuple value's in list form.\n",
        "tp1 = (11,22,33,44,55)\n",
        "lst = list(tp1)\n",
        "print (lst) # o/p : [11, 22, 33, 44, 55]"
      ],
      "metadata": {
        "id": "HjR9tEKAK3PA",
        "colab": {
          "base_uri": "https://localhost:8080/"
        },
        "outputId": "542882d5-4755-4204-f7da-b1fe7a1668c5"
      },
      "execution_count": 2,
      "outputs": [
        {
          "output_type": "stream",
          "name": "stdout",
          "text": [
            "[11, 22, 33, 44, 55]\n"
          ]
        }
      ]
    },
    {
      "cell_type": "markdown",
      "source": [
        "16. Variables that \"contain\" list values are not necessarily lists themselves. Instead, what do they contain?\n",
        "\n",
        "Answer>\n",
        "\n",
        ">They have references to list values."
      ],
      "metadata": {
        "id": "osCLtA1H2WSP"
      }
    },
    {
      "cell_type": "markdown",
      "source": [
        "17. How do you distinguish between copy.copy() and copy.deepcopy()?\n",
        "\n",
        "Answer >\n",
        "\n",
        ">copy.copy() creates a shallow copy of the object.\n",
        "\n",
        ">It duplicates the top-level object, but it does not create new copies of the elements within the object. Instead, it copies references to the elements. If the elements are mutable (e.g., lists or dictionaries), changes made to the original elements will also be reflected in the copied object.\n",
        "\n",
        ">copy.deepcopy() creates a deep copy of the object.\n",
        "\n",
        "> It duplicates the entire object along with all nested objects recursively. The resulting copy is completely independent of the original object, and changes made to the original or nested objects will not affect the deep copy."
      ],
      "metadata": {
        "id": "nwxaGQ673c0t"
      }
    },
    {
      "cell_type": "code",
      "source": [],
      "metadata": {
        "id": "_dRR99FF1jza"
      },
      "execution_count": null,
      "outputs": []
    }
  ]
}