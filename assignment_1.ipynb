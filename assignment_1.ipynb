{
  "nbformat": 4,
  "nbformat_minor": 0,
  "metadata": {
    "colab": {
      "provenance": []
    },
    "kernelspec": {
      "name": "python3",
      "display_name": "Python 3"
    },
    "language_info": {
      "name": "python"
    }
  },
  "cells": [
    {
      "cell_type": "markdown",
      "source": [
        "1. In the below elements which of them are values or an expression? eg:- values can be integer or string and expressions will be mathematical operators.\n",
        "\n",
        "Answer :\n",
        "\n",
        "\n",
        ">(1)    'hello' (string) values\n",
        "\n",
        ">(2)    -87.8   (integer) values\n",
        "\n",
        ">(3)      6     (integer) values\n",
        "\n",
        ">(4)     *     (mathematical operators) expression\n",
        "\n",
        ">(5)      -     (mathematical operators) expression\n",
        "\n",
        ">(6)      /     (mathematical operators) expression\n"
      ],
      "metadata": {
        "id": "wwGN5XSunLsH"
      }
    },
    {
      "cell_type": "markdown",
      "source": [
        "2. What is the difference between string and variable?\n",
        "\n",
        "\n",
        "Answer :\n",
        "\n",
        ">nm = “tom”\n",
        "\n",
        "> 'tom' is string data\n",
        "\n",
        ">where varible are fullfill by the string or int or float.\n",
        "\n",
        "vaiable haven’t particular data its only notation.\n",
        "\n",
        ">in variable we can assign value.\n"
      ],
      "metadata": {
        "id": "LbF25VW1pW76"
      }
    },
    {
      "cell_type": "markdown",
      "source": [
        "3. Describe three different data types.\n",
        "\n",
        "Answer :\n",
        "\n",
        ">(1) \tNumeric  (integer or float)\n",
        "\n",
        ">(2) \tstring\n",
        "\n",
        ">(3) \tboolen ( or xor and not )\n"
      ],
      "metadata": {
        "id": "Pyv1d9w7p_xU"
      }
    },
    {
      "cell_type": "markdown",
      "source": [
        "4. What is an expression made up of? What do all expressions do?\n",
        "\n",
        "Answer :\n",
        "\n",
        ">Its combination of operand and operator and gives the output in result.\n",
        "\n",
        ">All expressions having perticular and special function.\n"
      ],
      "metadata": {
        "id": "ZZKEod9kqf0T"
      }
    },
    {
      "cell_type": "code",
      "execution_count": null,
      "metadata": {
        "colab": {
          "base_uri": "https://localhost:8080/"
        },
        "id": "uLrM28qxm47k",
        "outputId": "cbe6161d-a01b-41f6-f50f-4a7b2c9248d9"
      },
      "outputs": [
        {
          "output_type": "stream",
          "name": "stdout",
          "text": [
            "6\n",
            "2\n",
            "8\n",
            "2.0\n",
            "10\n"
          ]
        }
      ],
      "source": [
        "# i.e. for all expressions\n",
        "a = 4\n",
        "b = 2\n",
        "\n",
        "\n",
        "add = ( a + b )\n",
        "print (add)\n",
        "\n",
        "sub = ( a - b )\n",
        "print (sub)\n",
        "\n",
        "mul = ( a * b )\n",
        "print (mul)\n",
        "\n",
        "div = ( a / b )\n",
        "print ( div )\n",
        "\n",
        "a=a+6\n",
        "print (a)\n"
      ]
    },
    {
      "cell_type": "markdown",
      "source": [
        "5. This assignment statements, like spam = 10. What is the difference between an\n",
        "expression and a statement?\n",
        "\n",
        "Spam = 10\n",
        "\n",
        "spam is variabel\n",
        "Where 10 is value which is assign to spam\n",
        "This whole line ---- Spam =10  ----  is called statement\n",
        "\n",
        "> STATEMENT :\n",
        "Spam =10  # value of 10 is assign to spam variabel  \n",
        "\n",
        "> statement is use for display some value for particular variabel.\n",
        "> its possibel to change the value of statement\n",
        "\n",
        "> expression\n",
        "\n",
        ">Spam = 10\n",
        "\n",
        ">Spam = Spam + 1\n",
        "\n",
        ">print (Spam)\n",
        "\n",
        "> expression dose not change with statement . expression alwas do the work for give condition adding the no. with 1\n",
        "\n",
        "> Statement can be an expression\n",
        "> But expression can not be statement.\n"
      ],
      "metadata": {
        "id": "WE567mx6nKdx"
      }
    },
    {
      "cell_type": "markdown",
      "source": [
        "6. After running the following code, what does the variable bacon contain?\n",
        "bacon  = 22\n",
        "bacon + 1\n",
        "\n",
        "bacoon = 22\n",
        ">variable bacon having 22 value in it.\n",
        "\n",
        "bacon having 22 due to 2nd statement or expression is wrong syntex.\n",
        "> For full fill this epression\n",
        "( bacon  = bacon + 1 )\n",
        "then and only then we have result gives 23\n"
      ],
      "metadata": {
        "id": "TGP7DnPDsQ71"
      }
    },
    {
      "cell_type": "markdown",
      "source": [
        "7. What should the values of the following two terms be?\n",
        "\n",
        "'spam' + 'spamspam'\n",
        "\n",
        ">result : spamspamspam\n",
        "\n",
        "'spam' * 3\n",
        "\n",
        ">result : spamspamspam"
      ],
      "metadata": {
        "id": "es4U-ZaIs4tI"
      }
    },
    {
      "cell_type": "markdown",
      "source": [
        "8. Why is eggs a valid variable name while 100 is invalid?\n",
        "\n",
        "Variabel name having some conditions which is\n",
        "\n",
        ">Varible start with alphabates (a-z , A-Z)\n",
        "\n",
        ">Its also start with underscore singn   (   _   )\n",
        "\n",
        ">But it must not start with numeric\n",
        "Numeric valid in between of the varibel or varibel name ends with numeric.\n",
        "\n",
        ">But variabel naver start with number / numeric / integer\n"
      ],
      "metadata": {
        "id": "b0aSDz_3tpp_"
      }
    },
    {
      "cell_type": "markdown",
      "source": [
        "9. What three functions can be used to get the integer, floating-point number, or string version of a value?\n",
        "\n",
        ">(1) integer  >  int()\n",
        "\n",
        ">(2) floating-point number >  float()\n",
        "\n",
        ">(3) string  >   str()\n"
      ],
      "metadata": {
        "id": "pgf_zZqWu5J-"
      }
    },
    {
      "cell_type": "markdown",
      "source": [
        "10. Why does this expression cause an error? How can you fix it?\n",
        "'I have eaten ' + 99 + ' burritos.'\n",
        "\n",
        ">'I have eaten ' : string\n",
        "\n",
        "> 99 : integer\n",
        "\n",
        "> ' burritos.' : string\n",
        "\n",
        "> we can not add intger and string.\n",
        "\n",
        "> if we want to perform this task we must convert 99 into string type.\n",
        "\n",
        ">'I have eaten ' + str (99) + ' burritos.'\n",
        "\n",
        ">>>Result : I have eaten 99 burritos."
      ],
      "metadata": {
        "id": "SVefdLK2xy5W"
      }
    }
  ]
}