{
  "nbformat": 4,
  "nbformat_minor": 0,
  "metadata": {
    "colab": {
      "provenance": [],
      "authorship_tag": "ABX9TyOKgpsYqHPb8PkFIPEFsRsU"
    },
    "kernelspec": {
      "name": "python3",
      "display_name": "Python 3"
    },
    "language_info": {
      "name": "python"
    }
  },
  "cells": [
    {
      "cell_type": "markdown",
      "source": [
        "1. Why are functions advantageous to have in your programs?*\n",
        "Answer :\n",
        "\n",
        ">Code organization: Functions break down code into manageable parts, improving readability and maintainability.\n",
        "\n",
        ">Reusability: Functions can be reused across different parts of a program or in multiple programs, reducing redundancy.\n",
        "\n",
        ">Abstraction: Functions provide a simple interface, hiding complex operations and making code easier to understand.\n",
        "\n",
        ">Readability: Functions with descriptive names enhance code comprehension and make it easier to work with.\n",
        "\n",
        ">Debugging and testing: Functions allow for isolated testing and easier identification of bugs.\n",
        "\n",
        ">Collaboration: Functions enable teamwork by allowing parallel development and independent work on different parts of the program.\n",
        "\n",
        ">in short,functions bring structure, reusability, simplicity, readability, ease of debugging, and collaboration to programs.\n",
        "\n",
        "\n",
        "\n",
        "\n",
        "\n",
        "\n"
      ],
      "metadata": {
        "id": "lDWW29W1J2_i"
      }
    },
    {
      "cell_type": "markdown",
      "source": [
        "2. When does the code in a function run: when it&#39;s specified or when it&#39;s called?\n",
        "\n",
        "Answer :\n",
        "\n",
        ">Function code run when it's called\n",
        "\n",
        ">Function code not Run when its defined."
      ],
      "metadata": {
        "id": "TpGfM4WBrI-V"
      }
    },
    {
      "cell_type": "markdown",
      "source": [
        "3. What statement creates a function?\n",
        "\n",
        "Answer :\n",
        "\n",
        "> def\n",
        "\n",
        ">statement defines and create a function."
      ],
      "metadata": {
        "id": "J_W0ynoStf3G"
      }
    },
    {
      "cell_type": "markdown",
      "source": [
        "4. What is the difference between a function and a function call?\n",
        "\n",
        "Answer :\n",
        "\n",
        ">Function :~\n",
        "A function is a block of code that performs a specific task or a set of tasks. It is a reusable unit of code that takes input (if required), processes it, and produces an output (if required). Functions are designed to encapsulate logic and promote code reusability, making it easier to organize and maintain code.\n",
        "\n",
        ">Function Call :~\n",
        "A function call is an instruction that tells the program to execute a specific function at a particular point in the code. When a function is called, the program temporarily jumps to the function's code, executes it with the provided arguments (if any), and then returns to the point in the code where the function call was made.\n"
      ],
      "metadata": {
        "id": "zwEIp03tt0-0"
      }
    },
    {
      "cell_type": "markdown",
      "source": [
        "5. How many global scopes are there in a Python program? How many local scopes?\n",
        "\n",
        "Answer :~\n",
        "\n",
        ">There is only one global scope, which is the outermost scope. This global scope is created when the program starts executing and remains active throughout the entire program's runtime. Any variables defined outside of any function or class in the program belong to the global scope, making them accessible from any part of the code."
      ],
      "metadata": {
        "id": "5GFRmlrCJiTt"
      }
    },
    {
      "cell_type": "code",
      "source": [
        "# For example\n",
        "Variable = 50  # shows variable belongs to the global scope\n",
        "\n",
        "Variable"
      ],
      "metadata": {
        "colab": {
          "base_uri": "https://localhost:8080/"
        },
        "id": "IhEVu0NJ9s3E",
        "outputId": "09cbfde2-ae3e-4615-b49f-c8609b2194ee"
      },
      "execution_count": null,
      "outputs": [
        {
          "output_type": "execute_result",
          "data": {
            "text/plain": [
              "50"
            ]
          },
          "metadata": {},
          "execution_count": 3
        }
      ]
    },
    {
      "cell_type": "markdown",
      "source": [
        ">Local scopes, on the other hand, are created whenever a function is called. Each function call creates its own local scope, which is independent of other function calls. Local scopes allow functions to have their own set of variables that only exist within the function's context."
      ],
      "metadata": {
        "id": "_-Rms2Wh9_wv"
      }
    },
    {
      "cell_type": "code",
      "source": [
        "def function():\n",
        "    variable = \"Hello Python\"  # shows variable belongs to the local scope of function\n",
        "    print(variable)\n",
        "\n",
        "function()"
      ],
      "metadata": {
        "colab": {
          "base_uri": "https://localhost:8080/"
        },
        "id": "iyRr2saB-HAn",
        "outputId": "86bfa0f8-dfc5-4ab0-8481-85fbf07b9ad9"
      },
      "execution_count": null,
      "outputs": [
        {
          "output_type": "stream",
          "name": "stdout",
          "text": [
            "Hello Python\n"
          ]
        }
      ]
    },
    {
      "cell_type": "markdown",
      "source": [
        ">the number of global scopes in a Python program is one, while the number of local scopes depends on how many times functions are called and how many functions define local variables within their code."
      ],
      "metadata": {
        "id": "iBKZ-NSb_dms"
      }
    },
    {
      "cell_type": "markdown",
      "source": [
        "6. What happens to variables in a local scope when the function call returns?\n",
        "\n",
        "Answer :\n",
        ">When a function call returns, the local scope associated with that function is destroyed, and any variables defined within that local scope cease to exist. This process is known as \"cleanup\" or \"garbage collection.\" The memory allocated to the local variables in the local scope is released, and the variables are no longer accessible or valid outside the function."
      ],
      "metadata": {
        "id": "SU_3XwLl_rxE"
      }
    },
    {
      "cell_type": "markdown",
      "source": [
        "7. What is the concept of a return value? Is it possible to have a return value in an expression?\n",
        "\n",
        "Answer :\n",
        ">When a function is called, it may perform some operations and optionally produce a result. The return value is the result that the function provides back to the caller after its execution. It allows functions to pass data or computed results back to the part of the code that invoked the function."
      ],
      "metadata": {
        "id": "4DTEHSxdYCIz"
      }
    },
    {
      "cell_type": "markdown",
      "source": [
        "8. If a function does not have a return statement, what is the return value of a call to that function?\n",
        "\n",
        "Answer :\n",
        ">\n",
        "If a function does not have a return statement or the return statement is omitted, the function will implicitly return the special value None."
      ],
      "metadata": {
        "id": "drPcMPu-Yiyg"
      }
    },
    {
      "cell_type": "markdown",
      "source": [
        "9. How do you make a function variable refer to the global variable?\n",
        "\n",
        "Answer :\n",
        "\n",
        ">Make a function variable refer to the global variable in Python, you can use the global keyword inside the function. By using the global keyword, you inform Python that a specific variable within the function should refer to the global variable with the same name, rather than creating a new local variable with the same name."
      ],
      "metadata": {
        "id": "oleIp4t-ZDNP"
      }
    },
    {
      "cell_type": "code",
      "source": [
        "var = 15\n",
        "\n",
        "def modify_var():\n",
        "    global var  # Using the 'global' keyword to refer to the global variable\n",
        "    var += 10\n",
        "\n",
        "print(\"Without function call:\", var)  # Output: Before function call: 10\n",
        "modify_var()\n",
        "print(\"with function call:\", var)  # Output: After function call: 15\n"
      ],
      "metadata": {
        "colab": {
          "base_uri": "https://localhost:8080/"
        },
        "id": "gq8OARSbZxFW",
        "outputId": "40b83645-b5fb-4efe-997c-f44e00b9327a"
      },
      "execution_count": 3,
      "outputs": [
        {
          "output_type": "stream",
          "name": "stdout",
          "text": [
            "Without function call: 15\n",
            "with function call: 25\n"
          ]
        }
      ]
    },
    {
      "cell_type": "markdown",
      "source": [
        "10. What is the data type of None?\n",
        "\n",
        "Answer :\n",
        "\n",
        ">None is a special built-in constant representing the absence of a value or a null value. It is used to indicate that a variable or expression does not have a valid value or does not refer to anything meaningful."
      ],
      "metadata": {
        "id": "30wpxpFcav7S"
      }
    },
    {
      "cell_type": "markdown",
      "source": [
        "11. What does the sentence import areallyourpetsnamederic do?\n",
        "\n",
        "Answer >\n",
        "\n",
        ">Import statement imports a module named areallyourpetsnamederic but this is not python module."
      ],
      "metadata": {
        "id": "W7W9ZHwSbCUc"
      }
    },
    {
      "cell_type": "markdown",
      "source": [
        "12. If you had a bacon() feature in a spam module, what would you call it after importing spam?\n",
        "\n",
        "Answer >\n",
        ">it can called by spam.bacon()"
      ],
      "metadata": {
        "id": "y7OgxTiGcA-Q"
      }
    },
    {
      "cell_type": "markdown",
      "source": [
        "13. What can you do to save a programme from crashing if it encounters an error?\n",
        "\n",
        "Answer >\n",
        ">To prevent a program from crashing when it encounters an error, you can use error handling techniques to handle exceptions gracefully. In Python, the try-except block is commonly used to catch and handle exceptions.\n",
        "\n",
        ">Put line of code that might cause an error in a try clause."
      ],
      "metadata": {
        "id": "IwV9EKw8caoo"
      }
    },
    {
      "cell_type": "markdown",
      "source": [
        "14. What is the purpose of the try clause? What is the purpose of the except clause?\n",
        "\n",
        "Answer >\n",
        "\n",
        ">By using the try and except clauses together, you can control how your program reacts to different exceptions, allowing you to handle errors gracefully, log information, or take specific actions to recover from issues and continue the program's execution."
      ],
      "metadata": {
        "id": "K4a2S9fnc1PW"
      }
    },
    {
      "cell_type": "code",
      "source": [],
      "metadata": {
        "id": "9T0Z0oOkavaj"
      },
      "execution_count": null,
      "outputs": []
    },
    {
      "cell_type": "code",
      "source": [],
      "metadata": {
        "id": "n0HLaqVsZnq_"
      },
      "execution_count": null,
      "outputs": []
    },
    {
      "cell_type": "code",
      "source": [],
      "metadata": {
        "id": "vJAwkdkf-RKh"
      },
      "execution_count": null,
      "outputs": []
    }
  ]
}