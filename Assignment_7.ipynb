{
  "nbformat": 4,
  "nbformat_minor": 0,
  "metadata": {
    "colab": {
      "provenance": [],
      "authorship_tag": "ABX9TyMc7IGGoY/76LZc+EDlBjr9"
    },
    "kernelspec": {
      "name": "python3",
      "display_name": "Python 3"
    },
    "language_info": {
      "name": "python"
    }
  },
  "cells": [
    {
      "cell_type": "markdown",
      "source": [
        "# Q.1. Create two int type variables, apply addition, subtraction, division and multiplications and store the results in variables. Then print the data in the following format by calling the variables:\n",
        "\n",
        "First variable is __ & second variable is __.\n",
        "\n",
        "Addition: __ + __ = __\n",
        "\n",
        "Subtraction: __ - __ = __\n",
        "\n",
        "Multiplication: __ * __ = __\n",
        "\n",
        "Division: __ / __ = __\n",
        "\n",
        "Answer >\n",
        "\n"
      ],
      "metadata": {
        "id": "q3jDRIhkrTRa"
      }
    },
    {
      "cell_type": "code",
      "execution_count": null,
      "metadata": {
        "colab": {
          "base_uri": "https://localhost:8080/"
        },
        "id": "kLMJOJ4Nq_qU",
        "outputId": "a99db464-523d-4c30-ac79-9af1e743566e"
      },
      "outputs": [
        {
          "output_type": "stream",
          "name": "stdout",
          "text": [
            "First variable is 10 and second variable is 2 .\n",
            "Addition: 10 + 2 = 12\n",
            "Subtraction: 10 - 2 = 8\n",
            "Multiplication: 10 * 2 = 20\n",
            "Division: 10 / 2 = 5.0\n"
          ]
        }
      ],
      "source": [
        "# declare first and second int variable\n",
        "first_var=10\n",
        "second_var=2\n",
        "\n",
        "# addition of variables\n",
        "Addition=first_var+second_var\n",
        "\n",
        "# Subtraction of variable\n",
        "Subtraction=first_var-second_var\n",
        "\n",
        "#Multiplication of two variables\n",
        "Multiplication=first_var*second_var\n",
        "\n",
        "#Division of two variables\n",
        "Division=first_var/second_var\n",
        "\n",
        "print(\"First variable is\",first_var,\"and second variable is\",second_var,'.')\n",
        "print(\"Addition:\",first_var,\"+\",second_var,'=',Addition)\n",
        "print(\"Subtraction:\",first_var,\"-\",second_var,'=',Subtraction)\n",
        "print(\"Multiplication:\",first_var,\"*\",second_var,'=',Multiplication)\n",
        "print(\"Division:\",first_var,\"/\",second_var,'=',Division)"
      ]
    },
    {
      "cell_type": "markdown",
      "source": [
        "# Q.2. What is the difference between the following operators:\n",
        "(i) ‘/’ & ‘//’\n",
        "\n",
        "(ii) ‘**’ & ‘^’\n",
        "\n",
        "Answer >\n"
      ],
      "metadata": {
        "id": "yeYRjcvts1tm"
      }
    },
    {
      "cell_type": "code",
      "source": [
        "# '/'is Division operator\n",
        "\n",
        "a=15\n",
        "b=5\n",
        "a/b # o/p : 3.0 wich is float."
      ],
      "metadata": {
        "colab": {
          "base_uri": "https://localhost:8080/"
        },
        "id": "HMfhCoQ_r_HY",
        "outputId": "a802779c-ed9f-4a34-8aef-5d571b74eb15"
      },
      "execution_count": null,
      "outputs": [
        {
          "output_type": "execute_result",
          "data": {
            "text/plain": [
              "3.0"
            ]
          },
          "metadata": {},
          "execution_count": 3
        }
      ]
    },
    {
      "cell_type": "code",
      "source": [
        "# '//'is floor Division operator\n",
        "\n",
        "a=15\n",
        "b=5\n",
        "a//b # o/p : 3 which is int"
      ],
      "metadata": {
        "colab": {
          "base_uri": "https://localhost:8080/"
        },
        "id": "qKrGR1W2tPWl",
        "outputId": "1718da62-fb38-4dd7-abe4-7372c809a6be"
      },
      "execution_count": null,
      "outputs": [
        {
          "output_type": "execute_result",
          "data": {
            "text/plain": [
              "3"
            ]
          },
          "metadata": {},
          "execution_count": 5
        }
      ]
    },
    {
      "cell_type": "code",
      "source": [
        "# ‘**’ Exponentiation operator\n",
        "a=2\n",
        "b=4\n",
        "a**b"
      ],
      "metadata": {
        "colab": {
          "base_uri": "https://localhost:8080/"
        },
        "id": "mygiZHFotTG0",
        "outputId": "8aa1eb56-1404-47d6-8184-64c4219c001b"
      },
      "execution_count": null,
      "outputs": [
        {
          "output_type": "execute_result",
          "data": {
            "text/plain": [
              "16"
            ]
          },
          "metadata": {},
          "execution_count": 8
        }
      ]
    },
    {
      "cell_type": "code",
      "source": [
        "# ‘^’ XOR operator\n",
        "a=5\n",
        "b=6\n",
        "a^b"
      ],
      "metadata": {
        "colab": {
          "base_uri": "https://localhost:8080/"
        },
        "id": "10H-aDxwuUiK",
        "outputId": "fb23a94f-08eb-47ac-d89a-d5ff348bf90b"
      },
      "execution_count": null,
      "outputs": [
        {
          "output_type": "execute_result",
          "data": {
            "text/plain": [
              "3"
            ]
          },
          "metadata": {},
          "execution_count": 15
        }
      ]
    },
    {
      "cell_type": "markdown",
      "source": [
        "# Q.3. List the logical operators.\n",
        "\n",
        "Answer >\n",
        "\n",
        " In python logical operator are\n",
        "\n",
        " > and ,\n",
        "\n",
        " > or ,\n",
        "\n",
        " > not"
      ],
      "metadata": {
        "id": "F0ujJGQrv44O"
      }
    },
    {
      "cell_type": "markdown",
      "source": [
        "# Q.4. Explain right shift operator and left shift operator with examples.\n",
        "\n",
        "Answer >\n",
        "\n",
        ">The bitwise left shift operator (<<) moves the bits of its first operand to the left by the number of places specified in its second operand"
      ],
      "metadata": {
        "id": "sESxYytZwU8T"
      }
    },
    {
      "cell_type": "code",
      "source": [
        "a = 39\n",
        "a << 1"
      ],
      "metadata": {
        "colab": {
          "base_uri": "https://localhost:8080/"
        },
        "id": "M6CMZbFku76H",
        "outputId": "1cfd6a8b-c6b2-4832-d9c7-9668bb55fa8a"
      },
      "execution_count": null,
      "outputs": [
        {
          "output_type": "execute_result",
          "data": {
            "text/plain": [
              "78"
            ]
          },
          "metadata": {},
          "execution_count": 18
        }
      ]
    },
    {
      "cell_type": "markdown",
      "source": [
        "> The bitwise right shift operator (>>) is analogous to the left one, but instead of moving bits to the left, it pushes them to the right by the specified number of places. The rightmost bits always get dropped."
      ],
      "metadata": {
        "id": "M43gQM7uw9My"
      }
    },
    {
      "cell_type": "code",
      "source": [
        "b = 157\n",
        "b >> 1"
      ],
      "metadata": {
        "colab": {
          "base_uri": "https://localhost:8080/"
        },
        "id": "i_o-Q3u5wwAk",
        "outputId": "c859fa67-0d4b-48ad-b0c4-83032529dbf7"
      },
      "execution_count": null,
      "outputs": [
        {
          "output_type": "execute_result",
          "data": {
            "text/plain": [
              "78"
            ]
          },
          "metadata": {},
          "execution_count": 19
        }
      ]
    },
    {
      "cell_type": "markdown",
      "source": [
        "# Q.5. Create a list containing int type data of length 15. Then write a code to check if 10 is present in the list or not.\n",
        "\n",
        "Answer >\n",
        "\n"
      ],
      "metadata": {
        "id": "Qq4BK1twxXrg"
      }
    },
    {
      "cell_type": "code",
      "source": [
        "ls=[1,2,3,4,5,6,7,8,9,10,11,12,13,14,15]\n",
        "10 in ls"
      ],
      "metadata": {
        "colab": {
          "base_uri": "https://localhost:8080/"
        },
        "id": "sGiMHoKJxXR9",
        "outputId": "19b96a92-a18c-4030-9055-486b200d20d7"
      },
      "execution_count": null,
      "outputs": [
        {
          "output_type": "execute_result",
          "data": {
            "text/plain": [
              "True"
            ]
          },
          "metadata": {},
          "execution_count": 21
        }
      ]
    },
    {
      "cell_type": "code",
      "source": [
        "for i in ls:\n",
        "    if i==10:\n",
        "        print(\"Number 10 Present in ls\")"
      ],
      "metadata": {
        "colab": {
          "base_uri": "https://localhost:8080/"
        },
        "id": "q1krDhDfxOXK",
        "outputId": "e2b3a85d-2fc4-494c-b54e-8b33a1db7b19"
      },
      "execution_count": null,
      "outputs": [
        {
          "output_type": "stream",
          "name": "stdout",
          "text": [
            "Number 10 Present in ls\n"
          ]
        }
      ]
    }
  ]
}