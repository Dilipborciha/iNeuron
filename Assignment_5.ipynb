{
  "nbformat": 4,
  "nbformat_minor": 0,
  "metadata": {
    "colab": {
      "provenance": [],
      "authorship_tag": "ABX9TyNB6shjCCl4MmNqqQ6vVUYy"
    },
    "kernelspec": {
      "name": "python3",
      "display_name": "Python 3"
    },
    "language_info": {
      "name": "python"
    }
  },
  "cells": [
    {
      "cell_type": "markdown",
      "source": [
        "1. What does an empty dictionary's code look like?\n",
        "\n",
        "Answer >\n",
        "empty dictionery look like\n",
        ">{ }"
      ],
      "metadata": {
        "id": "x8bvXnvaPG5u"
      }
    },
    {
      "cell_type": "markdown",
      "source": [
        "2. What is the value of a dictionary value with the key 'foo' and the value 42?\n",
        "\n",
        "Answer >\n",
        "\n",
        "{'foo' : 42}"
      ],
      "metadata": {
        "id": "_XmS5OU_Pg7Y"
      }
    },
    {
      "cell_type": "code",
      "execution_count": 2,
      "metadata": {
        "colab": {
          "base_uri": "https://localhost:8080/"
        },
        "id": "1fW_8qQCO-JJ",
        "outputId": "b1037a63-3b7c-4313-cf56-9b6c9ebc4089"
      },
      "outputs": [
        {
          "output_type": "stream",
          "name": "stdout",
          "text": [
            "{'foo': 42}\n"
          ]
        }
      ],
      "source": [
        " dict = {'foo' : 42}\n",
        " print (dict)\n",
        " # o/p :  {'foo' : 42}"
      ]
    },
    {
      "cell_type": "markdown",
      "source": [
        "3. What is the most significant distinction between a dictionary and a list?\n",
        "\n",
        "Answer >\n",
        ">Dictionary :\n",
        ">> Dictionaries are unordered collections of key-value pairs. Each element in a dictionary is associated with a unique key, and you use these keys to access the corresponding values.\n",
        "\n",
        "\n",
        "\n",
        ">List :\n",
        ">>Lists are ordered collections of elements that are accessed using numeric indices."
      ],
      "metadata": {
        "id": "R55rKH98QF55"
      }
    },
    {
      "cell_type": "markdown",
      "source": [
        "4. What happens if you try to access spam['foo'] if spam is {'bar': 100}?\n",
        "\n",
        "Answer >\n",
        "\n"
      ],
      "metadata": {
        "id": "H74PqNoNRyyX"
      }
    },
    {
      "cell_type": "code",
      "source": [
        "spam = {'bar': 100}\n",
        "spam ['foo'] # o/p : KeyError : 'foo'\n",
        "# because foo key is not available in the spam dict.\n",
        "spam ['bar'] # here 'bar' key is available so its gives o/p\n",
        "#o/p : 100"
      ],
      "metadata": {
        "colab": {
          "base_uri": "https://localhost:8080/",
          "height": 217
        },
        "id": "VMD8Fr9OP39R",
        "outputId": "9f6a79fb-2198-49f2-b64a-56266797821c"
      },
      "execution_count": 7,
      "outputs": [
        {
          "output_type": "error",
          "ename": "KeyError",
          "evalue": "ignored",
          "traceback": [
            "\u001b[0;31m---------------------------------------------------------------------------\u001b[0m",
            "\u001b[0;31mKeyError\u001b[0m                                  Traceback (most recent call last)",
            "\u001b[0;32m<ipython-input-7-8bd42076aeab>\u001b[0m in \u001b[0;36m<cell line: 2>\u001b[0;34m()\u001b[0m\n\u001b[1;32m      1\u001b[0m \u001b[0mspam\u001b[0m \u001b[0;34m=\u001b[0m \u001b[0;34m{\u001b[0m\u001b[0;34m'bar'\u001b[0m\u001b[0;34m:\u001b[0m \u001b[0;36m100\u001b[0m\u001b[0;34m}\u001b[0m\u001b[0;34m\u001b[0m\u001b[0;34m\u001b[0m\u001b[0m\n\u001b[0;32m----> 2\u001b[0;31m \u001b[0mspam\u001b[0m \u001b[0;34m[\u001b[0m\u001b[0;34m'foo'\u001b[0m\u001b[0;34m]\u001b[0m \u001b[0;31m# o/p : KeyError : 'foo'\u001b[0m\u001b[0;34m\u001b[0m\u001b[0;34m\u001b[0m\u001b[0m\n\u001b[0m\u001b[1;32m      3\u001b[0m \u001b[0;31m# because foo key is not available in the spam dict.\u001b[0m\u001b[0;34m\u001b[0m\u001b[0;34m\u001b[0m\u001b[0m\n\u001b[1;32m      4\u001b[0m \u001b[0mspam\u001b[0m \u001b[0;34m[\u001b[0m\u001b[0;34m'bar'\u001b[0m\u001b[0;34m]\u001b[0m\u001b[0;34m\u001b[0m\u001b[0;34m\u001b[0m\u001b[0m\n",
            "\u001b[0;31mKeyError\u001b[0m: 'foo'"
          ]
        }
      ]
    },
    {
      "cell_type": "markdown",
      "source": [
        "5. If a dictionary is stored in spam, what is the difference between the expressions 'cat' in spam and 'cat' in spam.keys()?\n",
        "\n",
        "Answer >\n",
        "\n",
        "No difference in operator check whether value present in spam or even in keys of dictionary."
      ],
      "metadata": {
        "id": "AakUE0D3ScuK"
      }
    },
    {
      "cell_type": "markdown",
      "source": [
        "6. If a dictionary is stored in spam, what is the difference between the expressions 'cat' in spam and 'cat' in spam.values()?\n",
        "\n",
        "Answer >\n",
        "\n",
        ">'cat' in spam expression checks if the key 'cat' exists in the dictionary spam\n",
        "\n",
        ">'cat' in spam.values() expression checks if the value 'cat' exists in any of the values in the dictionary spam."
      ],
      "metadata": {
        "id": "b_-MX1M6Tj0Y"
      }
    },
    {
      "cell_type": "markdown",
      "source": [
        "7. What is a shortcut for the following code?\n",
        "\n",
        "if 'color' not in spam:\n",
        "\n",
        "spam['color'] = 'black'\n",
        "\n",
        "Answer >\n",
        "\n"
      ],
      "metadata": {
        "id": "QERW-chTUnpk"
      }
    },
    {
      "cell_type": "code",
      "source": [
        "spam.setdefault('color', 'Black') #o/p : Black"
      ],
      "metadata": {
        "colab": {
          "base_uri": "https://localhost:8080/",
          "height": 36
        },
        "id": "tfy6Sb_sSBxX",
        "outputId": "d886fc0a-d297-4bbd-cd00-a920e5e3aa01"
      },
      "execution_count": 10,
      "outputs": [
        {
          "output_type": "execute_result",
          "data": {
            "text/plain": [
              "'black'"
            ],
            "application/vnd.google.colaboratory.intrinsic+json": {
              "type": "string"
            }
          },
          "metadata": {},
          "execution_count": 10
        }
      ]
    },
    {
      "cell_type": "markdown",
      "source": [
        "8. How do you \"pretty print\" dictionary values using which module and function?\n",
        "\n",
        "Answer >\n",
        "\n",
        ">pprint.pprint()"
      ],
      "metadata": {
        "id": "kjRMosTfVRoS"
      }
    }
  ]
}