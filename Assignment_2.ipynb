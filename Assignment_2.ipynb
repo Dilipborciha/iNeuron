{
  "nbformat": 4,
  "nbformat_minor": 0,
  "metadata": {
    "colab": {
      "provenance": []
    },
    "kernelspec": {
      "name": "python3",
      "display_name": "Python 3"
    },
    "language_info": {
      "name": "python"
    }
  },
  "cells": [
    {
      "cell_type": "markdown",
      "source": [
        "1.What are the two values of the Boolean data type? How do you write them?\n",
        ">The Boolean data type is a value that can only be either true or false. It is used to represent the two truth values of Boolean algebra and logic."
      ],
      "metadata": {
        "id": "XpqwQWD1zsfo"
      }
    },
    {
      "cell_type": "code",
      "execution_count": 1,
      "metadata": {
        "colab": {
          "base_uri": "https://localhost:8080/"
        },
        "id": "KS8KJ68fzkV-",
        "outputId": "2c4ec567-0b81-42a1-f67d-dc40199f4919"
      },
      "outputs": [
        {
          "output_type": "execute_result",
          "data": {
            "text/plain": [
              "bool"
            ]
          },
          "metadata": {},
          "execution_count": 1
        }
      ],
      "source": [
        "#  Boolean Data Type\n",
        "\n",
        "a = True\n",
        "type(a)\n",
        "\n",
        "b = False\n",
        "type(b)"
      ]
    },
    {
      "cell_type": "markdown",
      "source": [
        "2.What are the three different types of Boolean operators?\n",
        "\n",
        "> and\n",
        "\n",
        "> or\n",
        "\n",
        "> not"
      ],
      "metadata": {
        "id": "W5sDJs2U1J_o"
      }
    },
    {
      "cell_type": "markdown",
      "source": [
        "3. Make a list of each Boolean operator truth tables (i.e. every possible combination of Boolean values for the operator and what it evaluate ).\n",
        "\n",
        "answer :\n",
        "\n",
        "> table for AND operator\n",
        "\n",
        "True and\tTrue\t=\tTrue\n",
        "\n",
        "True and\tFalse\t=\tFalse\n",
        "\n",
        "False and\tFalse\t=\tFalse\n",
        "\n",
        "False and\tTrue\t=\tFalse\n",
        "\n",
        "> table for OR operator\n",
        "\n",
        "True\tor\tTrue\t=\tTrue\n",
        "\n",
        "True\tor\tFalse\t=\tTrue\n",
        "\n",
        "False\tor\tFalse\t=\tFalse\n",
        "\n",
        "False\tor\tTrue\t=\tTrue\n",
        "\n",
        "> table for NOT operator\n",
        "\n",
        "not True = False\n",
        "\n",
        "not False= True\n",
        "\n",
        "\n",
        "\n",
        "\n",
        "\n"
      ],
      "metadata": {
        "id": "pQkv9JKi17aH"
      }
    },
    {
      "cell_type": "markdown",
      "source": [
        "4. What are the values of the following expressions?\n",
        "\n",
        "(5 > 4) and (3 == 5)\n",
        "\n",
        "not (5 > 4)\n",
        "\n",
        "(5 > 4) or (3 == 5)\n",
        "\n",
        "not ((5 > 4) or (3 == 5))\n",
        "\n",
        "(True and True) and (True == False)\n",
        "\n",
        "(not False) or (not True)"
      ],
      "metadata": {
        "id": "q9Xhufv76w2J"
      }
    },
    {
      "cell_type": "code",
      "source": [
        "(5 > 4) and (3 == 5)"
      ],
      "metadata": {
        "colab": {
          "base_uri": "https://localhost:8080/"
        },
        "id": "1WKKKzKeYx_b",
        "outputId": "e12c7011-3eb4-4221-a487-cc51b1face86"
      },
      "execution_count": 46,
      "outputs": [
        {
          "output_type": "execute_result",
          "data": {
            "text/plain": [
              "False"
            ]
          },
          "metadata": {},
          "execution_count": 46
        }
      ]
    },
    {
      "cell_type": "code",
      "source": [
        "not (5 > 4)"
      ],
      "metadata": {
        "colab": {
          "base_uri": "https://localhost:8080/"
        },
        "id": "NfSwQ8xyY1_G",
        "outputId": "1da2385f-d323-4601-932f-acd757324654"
      },
      "execution_count": 47,
      "outputs": [
        {
          "output_type": "execute_result",
          "data": {
            "text/plain": [
              "False"
            ]
          },
          "metadata": {},
          "execution_count": 47
        }
      ]
    },
    {
      "cell_type": "code",
      "source": [
        "(5 > 4) or (3 == 5)"
      ],
      "metadata": {
        "colab": {
          "base_uri": "https://localhost:8080/"
        },
        "id": "1pu9X1ilY5pV",
        "outputId": "c45c2a3e-7862-4b69-a95f-1e36a1bd3883"
      },
      "execution_count": 48,
      "outputs": [
        {
          "output_type": "execute_result",
          "data": {
            "text/plain": [
              "True"
            ]
          },
          "metadata": {},
          "execution_count": 48
        }
      ]
    },
    {
      "cell_type": "code",
      "source": [
        "not ((5 > 4) or (3 == 5))"
      ],
      "metadata": {
        "colab": {
          "base_uri": "https://localhost:8080/"
        },
        "id": "xefjoqBGY9kH",
        "outputId": "b203a4c4-e60a-42f6-cd3c-3e51a91e2d35"
      },
      "execution_count": 49,
      "outputs": [
        {
          "output_type": "execute_result",
          "data": {
            "text/plain": [
              "False"
            ]
          },
          "metadata": {},
          "execution_count": 49
        }
      ]
    },
    {
      "cell_type": "code",
      "source": [
        "(True and True) and (True == False)"
      ],
      "metadata": {
        "colab": {
          "base_uri": "https://localhost:8080/"
        },
        "id": "fOPOdHPxZBb6",
        "outputId": "b08ba36c-3c5c-4289-a16c-2d215bed3267"
      },
      "execution_count": 50,
      "outputs": [
        {
          "output_type": "execute_result",
          "data": {
            "text/plain": [
              "False"
            ]
          },
          "metadata": {},
          "execution_count": 50
        }
      ]
    },
    {
      "cell_type": "code",
      "source": [
        "(not False) or (not True)"
      ],
      "metadata": {
        "colab": {
          "base_uri": "https://localhost:8080/"
        },
        "id": "pOl5Yrk0ZDNP",
        "outputId": "0cdaedf5-c600-4c2b-c357-05e158ea87f5"
      },
      "execution_count": 51,
      "outputs": [
        {
          "output_type": "execute_result",
          "data": {
            "text/plain": [
              "True"
            ]
          },
          "metadata": {},
          "execution_count": 51
        }
      ]
    },
    {
      "cell_type": "markdown",
      "source": [
        "5. What are the six comparison operators?\n",
        "\n",
        ">Equal to (==): This operator checks if the operands are equal and returns True if they are, and False otherwise. For example:\n",
        "\n",
        "    10 == 10 returns True\n",
        "    'apple' == 'banana' returns False\n",
        "\n",
        ">Not equal to (!=): This operator checks if the operands are not equal and returns True if they are not, and False if they are equal. For example:\n",
        "\n",
        "    5 != 10 returns True\n",
        "    'cat' != 'cat' returns False\n",
        "\n",
        ">Greater than (>): This operator checks if the left operand is greater than the right operand and returns True if it is, and False otherwise. For example:\n",
        "\n",
        "    7 > 4 returns True\n",
        "    2 > 6 returns False\n",
        ">Less than (<): This operator checks if the left operand is less than the right operand and returns True if it is, and False otherwise. For example:\n",
        "\n",
        "    3 < 9 returns True\n",
        "    12 < 5 returns False\n",
        ">Greater than or equal to (>=): This operator checks if the left operand is greater than or equal to the right operand and returns True if it is, and False otherwise. For example:\n",
        "\n",
        "    5 >= 3 returns True\n",
        "    8 >= 10 returns False\n",
        ">Less than or equal to (<=): This operator checks if the left operand is less than or equal to the right operand and returns True if it is, and False otherwise. For example:\n",
        "\n",
        "    2 <= 5 returns True\n",
        "    7 <= 3 returns False"
      ],
      "metadata": {
        "id": "BDmL8sLw7vpc"
      }
    },
    {
      "cell_type": "markdown",
      "source": [
        "6. How do you tell the difference between the equal to and assignment operators?Describe a\n",
        "condition and when you would use one.\n",
        "\n",
        ">Equal to operator (==): The equal to operator is a comparison operator used to check if two values are equal. It compares the values on the left and right sides and returns a Boolean result (True or False) based on the comparison.\n",
        "\n",
        ">Assignment operator (=): The assignment operator is used to assign a value to a variable. It takes the value on the right side and assigns it to the variable on the left side."
      ],
      "metadata": {
        "id": "GRAv3oB4704M"
      }
    },
    {
      "cell_type": "markdown",
      "source": [
        "7. Identify the three blocks in this code:\n",
        "\n",
        "spam = 0\n",
        "\n",
        "if spam == 10:\n",
        "\n",
        "print(&#39;eggs&#39;)\n",
        "\n",
        "if spam &gt; 5:\n",
        "\n",
        "print(&#39;bacon&#39;)\n",
        "\n",
        "else:\n",
        "\n",
        "print(&#39;ham&#39;)\n",
        "\n",
        "print(&#39;spam&#39;)\n",
        "\n",
        "print(&#39;spam&#39;)"
      ],
      "metadata": {
        "id": "USDsz1WH72NV"
      }
    },
    {
      "cell_type": "code",
      "source": [
        "spam = 0\n",
        "\n",
        "if spam == 10:  # 1st Block\n",
        "  print('eggs')\n",
        "\n",
        "elif spam > 5:  # 2nd block\n",
        "    print('bacon')\n",
        "\n",
        "else:            # 3rd block\n",
        "    print('ham')\n",
        "\n",
        "print('spam')\n",
        "\n",
        "print('spam')"
      ],
      "metadata": {
        "colab": {
          "base_uri": "https://localhost:8080/"
        },
        "id": "tHWVReN56yHg",
        "outputId": "31756877-ffa1-4e33-cfd1-150c1b4fa783"
      },
      "execution_count": 19,
      "outputs": [
        {
          "output_type": "stream",
          "name": "stdout",
          "text": [
            "ham\n",
            "spam\n",
            "spam\n"
          ]
        }
      ]
    },
    {
      "cell_type": "markdown",
      "source": [
        "8. Write code that prints Hello if 1 is stored in spam, prints Howdy if 2 is stored in spam, and prints\n",
        "Greetings! if anything else is stored in spam."
      ],
      "metadata": {
        "id": "7dNOy2zM_mCU"
      }
    },
    {
      "cell_type": "code",
      "source": [
        "spam = int(input(\"Enter the Integer no. : \"))\n",
        "\n",
        "if spam == 1 :\n",
        "  print (\"Hello\")\n",
        "elif spam == 2 :\n",
        "  print (\"Howdy\")\n",
        "else :\n",
        "  print (\"Greetings!\")\n",
        "\n"
      ],
      "metadata": {
        "colab": {
          "base_uri": "https://localhost:8080/"
        },
        "id": "GSjsXvCO0xri",
        "outputId": "1637b12c-280d-4111-abbc-5ffb4854db56"
      },
      "execution_count": 27,
      "outputs": [
        {
          "output_type": "stream",
          "name": "stdout",
          "text": [
            "Enter the Integer no. : 3\n",
            "Thank you for visit\n"
          ]
        }
      ]
    },
    {
      "cell_type": "markdown",
      "source": [
        "9.If your programme is stuck in an endless loop, what keys you’ll press?\n",
        "\n",
        ">Press \"Ctrl\" + \"C\" keys together.\n",
        "\n",
        "By pressing \"Ctrl\" + \"C,\" you send a KeyboardInterrupt signal to the running Python program, causing it to terminate and break out of the infinite loop. This key combination is widely used across different platforms and Python environments to interrupt program execution.\n"
      ],
      "metadata": {
        "id": "vdBMbZxUA5U3"
      }
    },
    {
      "cell_type": "markdown",
      "source": [
        "10. How can you tell the difference between break and continue?\n",
        "\n",
        "> When the break statement is encountered within a loop, it immediately terminates the loop and execution continues with the next statement after the loop. In other words, it breaks out of the loop entirely. The loop's remaining iterations are skipped, and the program moves on to the next part of the code outside the loop.\n"
      ],
      "metadata": {
        "id": "ExRlHtwJA-3E"
      }
    },
    {
      "cell_type": "code",
      "source": [
        "for i in range(1, 6):\n",
        "    if i == 3:\n",
        "        break\n",
        "    print(i)"
      ],
      "metadata": {
        "colab": {
          "base_uri": "https://localhost:8080/"
        },
        "id": "cgN8zh1vF1lQ",
        "outputId": "04edbb64-1218-4a9b-b312-8642b4dd218b"
      },
      "execution_count": 28,
      "outputs": [
        {
          "output_type": "stream",
          "name": "stdout",
          "text": [
            "1\n",
            "2\n"
          ]
        }
      ]
    },
    {
      "cell_type": "markdown",
      "source": [
        ">When the continue statement is encountered within a loop, it skips the rest of the code inside the loop for the current iteration and proceeds to the next iteration. In other words, it jumps to the next iteration, without executing the remaining statements within the loop block for the current iteration."
      ],
      "metadata": {
        "id": "_lKpvERmGKNb"
      }
    },
    {
      "cell_type": "code",
      "source": [
        "for i in range(1, 6):\n",
        "    if i == 3:\n",
        "        continue\n",
        "    print(i)"
      ],
      "metadata": {
        "id": "IeS9QzeGGUa9"
      },
      "execution_count": null,
      "outputs": []
    },
    {
      "cell_type": "markdown",
      "source": [
        "11. In a for loop, what is the difference between range(10), range(0, 10), and range(0, 10, 1)?\n",
        "\n"
      ],
      "metadata": {
        "id": "25TaJOdgBDVU"
      }
    },
    {
      "cell_type": "markdown",
      "source": [
        "> range(10): This form of range() generates a sequence of numbers starting from 0 (inclusive) up to, but not including, the specified number (10 in this case). It uses the default step value of 1."
      ],
      "metadata": {
        "id": "fImsOvxhGptL"
      }
    },
    {
      "cell_type": "code",
      "source": [
        "for i in range(10):\n",
        "    print(i)"
      ],
      "metadata": {
        "colab": {
          "base_uri": "https://localhost:8080/"
        },
        "id": "eGhO3qBhGsOr",
        "outputId": "5d21ad0f-f160-4a69-dbd6-053fc81b824a"
      },
      "execution_count": 30,
      "outputs": [
        {
          "output_type": "stream",
          "name": "stdout",
          "text": [
            "0\n",
            "1\n",
            "2\n",
            "3\n",
            "4\n",
            "5\n",
            "6\n",
            "7\n",
            "8\n",
            "9\n"
          ]
        }
      ]
    },
    {
      "cell_type": "markdown",
      "source": [
        ">range(0, 10): This form of range() generates a sequence of numbers starting from the specified start value (0 in this case) up to, but not including, the specified stop value (10 in this case). It also uses the default step value of 1."
      ],
      "metadata": {
        "id": "iTJg2ZU0GwUj"
      }
    },
    {
      "cell_type": "code",
      "source": [
        "for i in range(0, 10):\n",
        "    print(i)"
      ],
      "metadata": {
        "colab": {
          "base_uri": "https://localhost:8080/"
        },
        "id": "0Fb46I-mG2QT",
        "outputId": "42760aca-a05c-4a84-c670-b17d92b94cc7"
      },
      "execution_count": 29,
      "outputs": [
        {
          "output_type": "stream",
          "name": "stdout",
          "text": [
            "0\n",
            "1\n",
            "2\n",
            "3\n",
            "4\n",
            "5\n",
            "6\n",
            "7\n",
            "8\n",
            "9\n"
          ]
        }
      ]
    },
    {
      "cell_type": "markdown",
      "source": [
        ">range(0, 10, 1): This form of range() generates a sequence of numbers starting from the specified start value (0 in this case) up to, but not including, the specified stop value (10 in this case). It also specifies a step value of 1, indicating that the numbers in the sequence will be incremented by 1 in each iteration."
      ],
      "metadata": {
        "id": "G--ji_MlG7rG"
      }
    },
    {
      "cell_type": "code",
      "source": [
        "for i in range(0, 10, 1):\n",
        "    print(i)"
      ],
      "metadata": {
        "colab": {
          "base_uri": "https://localhost:8080/"
        },
        "id": "RNedxvapHCQq",
        "outputId": "baec9b5a-f36f-4963-f2e9-8897fccc61f0"
      },
      "execution_count": 31,
      "outputs": [
        {
          "output_type": "stream",
          "name": "stdout",
          "text": [
            "0\n",
            "1\n",
            "2\n",
            "3\n",
            "4\n",
            "5\n",
            "6\n",
            "7\n",
            "8\n",
            "9\n"
          ]
        }
      ]
    },
    {
      "cell_type": "markdown",
      "source": [
        "12. Write a short program that prints the numbers 1 to 10 using a for loop. Then write an equivalent\n",
        "program that prints the numbers 1 to 10 using a while loop."
      ],
      "metadata": {
        "id": "PEwVba48BOjL"
      }
    },
    {
      "cell_type": "code",
      "source": [
        "# short program that prints the numbers 1 to 10 using a for loop\n",
        "for i in range(10):\n",
        "    print(i+1)"
      ],
      "metadata": {
        "colab": {
          "base_uri": "https://localhost:8080/"
        },
        "id": "VbtftidoHNZy",
        "outputId": "e0751dae-34f8-4a71-d2e4-87b3c6e70a3a"
      },
      "execution_count": 36,
      "outputs": [
        {
          "output_type": "stream",
          "name": "stdout",
          "text": [
            "1\n",
            "2\n",
            "3\n",
            "4\n",
            "5\n",
            "6\n",
            "7\n",
            "8\n",
            "9\n",
            "10\n"
          ]
        }
      ]
    },
    {
      "cell_type": "code",
      "source": [
        "#  short program that prints the numbers 1 to 10 using a while loop\n",
        "a = 1\n",
        "while a <= 10:\n",
        "  print (a)\n",
        "  a += 1\n"
      ],
      "metadata": {
        "colab": {
          "base_uri": "https://localhost:8080/"
        },
        "id": "xpMc3cDyHuu_",
        "outputId": "938b611e-ddd0-43c5-d582-4b0628c7e423"
      },
      "execution_count": 45,
      "outputs": [
        {
          "output_type": "stream",
          "name": "stdout",
          "text": [
            "1\n",
            "2\n",
            "3\n",
            "4\n",
            "5\n",
            "6\n",
            "7\n",
            "8\n",
            "9\n",
            "10\n"
          ]
        }
      ]
    },
    {
      "cell_type": "markdown",
      "source": [
        "13. If you had a function named bacon() inside a module named spam, how would you call it after\n",
        "importing spam?"
      ],
      "metadata": {
        "id": "caXCY6LgBPg0"
      }
    },
    {
      "cell_type": "code",
      "source": [
        "spam.bacon()"
      ],
      "metadata": {
        "id": "vY5eJ-xSAkQx"
      },
      "execution_count": 45,
      "outputs": []
    },
    {
      "cell_type": "code",
      "source": [],
      "metadata": {
        "id": "fDq8rxSZIjcH"
      },
      "execution_count": null,
      "outputs": []
    }
  ]
}