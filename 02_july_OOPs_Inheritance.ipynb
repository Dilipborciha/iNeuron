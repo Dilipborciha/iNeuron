{
  "nbformat": 4,
  "nbformat_minor": 0,
  "metadata": {
    "colab": {
      "provenance": []
    },
    "kernelspec": {
      "name": "python3",
      "display_name": "Python 3"
    },
    "language_info": {
      "name": "python"
    }
  },
  "cells": [
    {
      "cell_type": "markdown",
      "source": [
        "# 1. Explain what inheritance is in object-oriented programming and why it is used.\n",
        "\n",
        "Answer >\n",
        "\n",
        ">Superclass (Base Class) :\n",
        ">>The superclass is the original class that contains a set of attributes (data members) and methods (functions) defining its behavior.\n",
        "\n",
        ">Subclass (Derived Class) :\n",
        ">>The subclass is a new class that inherits attributes and methods from the superclass. It can also have additional attributes and methods that are specific to the subclass.\n",
        "\n",
        ">inheritance is a crucial concept in OOP that facilitates code reuse, hierarchy, and extensibility, making it easier to design and maintain complex software systems.\n",
        "\n",
        ">FOR EXAMPLE\n",
        ">>\"Car\" and \"Motorcycle\" are subclasses that inherit from the \"Vehicle\" superclass. They both have their specific attributes and methods while reusing the common functionality defined in the \"Vehicle\" class."
      ],
      "metadata": {
        "id": "9MLM_D34hvEG"
      }
    },
    {
      "cell_type": "markdown",
      "source": [
        "#2. Discuss the concept of single inheritance and multiple inheritance, highlighting their differences and advantages\n",
        "\n",
        "Answer >\n",
        "\n",
        "* Single Inheritance:\n",
        ">Single inheritance allows a class to inherit from only one superclass. It forms a linear, single-chain class hierarchy.\n",
        "\n",
        "* Advantages:\n",
        ">Simplicity, reduced complexity, and clear encapsulation.\n",
        "\n",
        "* Multiple Inheritance:\n",
        ">Multiple inheritance enables a class to inherit from multiple superclasses. It can create a more complex class hierarchy with branches.\n",
        "\n",
        "* Advantages:\n",
        ">Code reuse, versatility, and use of mixin classes for additional functionalities."
      ],
      "metadata": {
        "id": "8ax8bSf2Il-g"
      }
    },
    {
      "cell_type": "markdown",
      "source": [
        "# 3. Explain the terms \"base class\" and \"derived class\" in the context of inheritance.\n",
        "\n",
        "Answer >\n",
        "\n",
        "* Base Class (Superclass) :\n",
        "> The original class that provides common properties and behaviors, and from which other classes inherit.\n",
        "\n",
        "* Derived Class (Subclass) :\n",
        "> The new class that inherits properties and behaviors from the base class, extending or specializing its functionalities."
      ],
      "metadata": {
        "id": "Rmm1CiZ5LehD"
      }
    },
    {
      "cell_type": "markdown",
      "source": [
        "# 4. What is the significance of the \"protected\" access modifier in inheritance? How does it differ from \"private\" and \"public\" modifiers?\n",
        "\n",
        "Answer >\n",
        "\n",
        ">The significance of the \"protected\" access modifier in inheritance lies in enabling selective accessibility to class members.\n",
        "\n",
        ">It allows the base class to share specific attributes or methods with its derived classes without exposing them to external code.\n",
        "\n",
        "> By using the \"protected\" access modifier, the base class can control which members are available to its subclasses, while still keeping other members private and inaccessible.\n",
        "\n",
        "* Public Access Modifier :\n",
        ">Members are accessible from anywhere, and public members of the base class are inherited as public members in the derived class.\n",
        "\n",
        "* Private Access Modifier :\n",
        ">Members are only accessible within the class that defines them and are not inherited by the derived class.\n",
        "\n",
        "* Protected Access Modifier :\n",
        ">Members are accessible within the class that defines them and its derived classes, and protected members of the base class are inherited as protected members in the derived class."
      ],
      "metadata": {
        "id": "xkNDQMPqLfAj"
      }
    },
    {
      "cell_type": "markdown",
      "source": [
        "# 5. What is the purpose of the \"super\" keyword in inheritance? Provide an example.\n",
        "\n",
        "Answer >\n",
        "\n",
        ">The primary purpose of the \"super\" keyword is to enable proper initialization of the inherited attributes and invoke the parent class's methods when needed.\n",
        "\n",
        "\n"
      ],
      "metadata": {
        "id": "qSUyix0GQsnE"
      }
    },
    {
      "cell_type": "code",
      "execution_count": null,
      "metadata": {
        "id": "VPsbRW0UhZrx",
        "colab": {
          "base_uri": "https://localhost:8080/"
        },
        "outputId": "c3d305c2-4035-41ce-f989-1fe3c2a9b2ec"
      },
      "outputs": [
        {
          "output_type": "stream",
          "name": "stdout",
          "text": [
            "The name of the person is Tom and age is 28\n"
          ]
        }
      ],
      "source": [
        "#example of inheritance\n",
        "class Person:\n",
        "    def __init__(self,name,age):\n",
        "      self.name=name\n",
        "      self.age=age\n",
        "\n",
        "    def displayInfo(self):\n",
        "      print(f\"The name of the person is {self.name} and age is {self.age}\")\n",
        "class Man(Person):\n",
        "  def __init__(self,name,age):\n",
        "      super().__init__(name,age) # using super keyword we are initializing the parent constructor\n",
        "\n",
        "\n",
        "man=Man(\"Tom\",28)\n",
        "man.displayInfo() # calling parernt method through child's obj\n",
        "\n",
        "\n"
      ]
    },
    {
      "cell_type": "markdown",
      "source": [
        "# 6. Create a base class called \"Vehicle\" with attributes like \"make\", \"model\", and \"year\". Then, create a derived class called \"Car\" that inherits from \"Vehicle\" and adds an attribute called \"fuel_type\". Implement appropriate methods in both classes.\n",
        "\n",
        "Answer >"
      ],
      "metadata": {
        "id": "Z86B0QGeRTaa"
      }
    },
    {
      "cell_type": "code",
      "source": [
        "# Creation of Base class\n",
        "class Vehicle:\n",
        "  def __init__(self,make,model,year):\n",
        "    self.make=make\n",
        "    self.model=model\n",
        "    self.year=year\n",
        "\n",
        "#Derived class Car\n",
        "\n",
        "class Car(Vehicle):\n",
        "  def __init__(self,make,model,year,fuel_type):\n",
        "    super().__init__(make,model,year)\n",
        "    self.fuel_type=fuel_type\n",
        "\n",
        "  def display_info(self):\n",
        "    return f\"This {self.make} Car {self.model} model was built on {self.year} and having {self.fuel_type} engine\"\n",
        "\n",
        "\n",
        "# creation of child class object and displaying its information\n",
        "\n",
        "my_car=Car('TATA','TOP','2023','Petrol')\n",
        "my_car.display_info()"
      ],
      "metadata": {
        "colab": {
          "base_uri": "https://localhost:8080/",
          "height": 36
        },
        "id": "0cN0GNzGRfWm",
        "outputId": "c85816b6-c80e-4527-d8cb-b9266cbcbb32"
      },
      "execution_count": null,
      "outputs": [
        {
          "output_type": "execute_result",
          "data": {
            "text/plain": [
              "'This TATA Car TOP model was built on 2023 and having Petrol engine'"
            ],
            "application/vnd.google.colaboratory.intrinsic+json": {
              "type": "string"
            }
          },
          "metadata": {},
          "execution_count": 1
        }
      ]
    },
    {
      "cell_type": "markdown",
      "source": [
        "# 7. Create a base class called \"Employee\" with attributes like \"name\" and \"salary.\" Derive two classes, \"Manager\" and \"Developer,\" from \"Employee.\" Add an additional attribute called \"department\" for the \"Manager\" class and \"programming_language\" for the \"Developer\" class.\n",
        "\n",
        "Answer >\n"
      ],
      "metadata": {
        "id": "95caYtn9Rsh4"
      }
    },
    {
      "cell_type": "code",
      "source": [
        "# Creation on base class Employee\n",
        "\n",
        "class Employee:\n",
        "  def __init__(self,name,salary):\n",
        "    self.name=name\n",
        "    self.salary=salary\n",
        "\n",
        "# Creation of child class Manager usng inheriting parent class employee\n",
        "class Manager(Employee):\n",
        "  def __init__(self,name,salary,department):\n",
        "    super().__init__(name,salary)\n",
        "    self.department=department\n",
        "\n",
        "\n",
        "# Creation of child class Developer usng inheriting parent class employee\n",
        "\n",
        "class Developer(Employee):\n",
        "  def __init__(self,name,salary,programming_language):\n",
        "    super().__init__(name,salary)\n",
        "    self.programming_language=programming_language\n",
        "\n",
        "# creating two objects using Manager and Developer class\n",
        "\n",
        "Krish_Manager=Manager('Krish',50000,'Operations')\n",
        "Sunny_Dev=Developer('Sunny',30000,'Python Developer')\n",
        "\n",
        "# Printing details of manager objects\n",
        "\n",
        "print(Krish_Manager.name)\n",
        "print(Krish_Manager.salary)\n",
        "print(Krish_Manager.department)\n"
      ],
      "metadata": {
        "colab": {
          "base_uri": "https://localhost:8080/"
        },
        "id": "0p1imgssRqRz",
        "outputId": "29295454-000e-4ff8-c2b5-da993882b0bc"
      },
      "execution_count": null,
      "outputs": [
        {
          "output_type": "stream",
          "name": "stdout",
          "text": [
            "Krish\n",
            "50000\n",
            "Operations\n"
          ]
        }
      ]
    },
    {
      "cell_type": "markdown",
      "source": [
        "# 8. Design a base class called \"Shape\" with attributes like \"colour\" and \"border_width.\" Create derived classes, \"Rectangle\" and \"Circle,\" that inherit from \"Shape\" and add specific attributes like \"length\" and \"width\" for the \"Rectangle\" class and \"radius\" for the \"Circle\" class.\n",
        "\n",
        "Answer >\n"
      ],
      "metadata": {
        "id": "Tke9tRSaSDT7"
      }
    },
    {
      "cell_type": "code",
      "source": [
        "# Creation of base class Shape\n",
        "\n",
        "class Shape:\n",
        "  def __init__(self,colour,border_width):\n",
        "    self.colour=colour\n",
        "    self.border_width=border_width\n",
        "\n",
        "\n",
        "\n",
        "#Creation of child/Derived class Rectangle from base class Shape\n",
        "\n",
        "class Rectangle(Shape):\n",
        "  def __init__(self,length,colour,border_width):\n",
        "    self.length=length\n",
        "    super().__init__(colour,border_width)\n",
        "\n",
        "\n",
        "#Creation of child/Derived class Circle from base class Shape\n",
        "\n",
        "class Circle(Shape):\n",
        "  def __init__(self,radius,colour):\n",
        "    self.radius=radius\n",
        "    super().__init__(colour,border_width=0)\n",
        "\n",
        "\n",
        "\n",
        "rectangle=Rectangle(2,'Red',3)\n",
        "circle=Circle(2,'Green')\n",
        "\n",
        "print (rectangle.border_width)\n",
        "print (circle.border_width)"
      ],
      "metadata": {
        "colab": {
          "base_uri": "https://localhost:8080/"
        },
        "id": "Js8YvVHdSVkd",
        "outputId": "2864f2b5-6781-4066-8958-02e8d40216e8"
      },
      "execution_count": null,
      "outputs": [
        {
          "output_type": "stream",
          "name": "stdout",
          "text": [
            "3\n",
            "0\n"
          ]
        }
      ]
    },
    {
      "cell_type": "markdown",
      "source": [
        "# 9. Create a base class called \"Device\" with attributes like \"brand\" and \"model.\" Derive two classes, \"Phone\" and \"Tablet,\" from \"Device.\" Add specific attributes like \"screen_size\" for the \"Phone\" class and \"battery_capacity\" for the \"Tablet\" class.\n",
        "\n",
        "Answer >\n",
        "\n",
        ">"
      ],
      "metadata": {
        "id": "Zf7vWSgeSU4p"
      }
    },
    {
      "cell_type": "code",
      "source": [
        "# creation of base class Device\n",
        "\n",
        "class Device:\n",
        "  def __init__(self,brand,model):\n",
        "    self.brand=brand\n",
        "    self.model=model\n",
        "\n",
        "# creation of derived Phone class\n",
        "class Phone(Device):\n",
        "  def __init__(self,brand,model,screen_size):\n",
        "    super().__init__(brand,model)\n",
        "    self.screen_size= screen_size\n",
        "\n",
        "  def display_info(self):\n",
        "    return f\"This is my {self.brand} phone of {self.model} having screen size {self.screen_size}\"\n",
        "\n",
        "# creation of derived Tablet class\n",
        "class Tablet(Device):\n",
        "  def __init__(self,brand,model,battery_capacity):\n",
        "    super().__init__(brand,model)\n",
        "    self.battery_capacity=battery_capacity\n",
        "\n",
        "  def display_info(self):\n",
        "    return f\"This is my {self.brand} phone of {self.model} having screen size {self.battery_capacity}\"\n",
        "\n",
        "# Here we create two objects from Phone and Tablet class and calling display_info method class\n",
        "\n",
        "my_phone=Phone('Moto','G32','6inch')\n",
        "my_tablet=Tablet('Samsung','Tab1','8inch')\n",
        "print(my_phone.display_info())\n",
        "print(my_tablet.display_info())"
      ],
      "metadata": {
        "colab": {
          "base_uri": "https://localhost:8080/"
        },
        "id": "e3WTLQFLR6Sp",
        "outputId": "1e1c7f6b-2d7d-4387-9e05-6f64aad07b20"
      },
      "execution_count": null,
      "outputs": [
        {
          "output_type": "stream",
          "name": "stdout",
          "text": [
            "This is my Moto phone of G32 having screen size 6inch\n",
            "This is my Samsung phone of Tab1 having screen size 8inch\n"
          ]
        }
      ]
    },
    {
      "cell_type": "markdown",
      "source": [
        "# 10. Create a base class called \"BankAccount\" with attributes like \"account_number\" and \"balance.\" Derive two classes, \"SavingsAccount\" and \"CheckingAccount,\" from \"BankAccount.\" Add specific methods like \"calculate_interest\" for the \"SavingsAccount\" class and \"deduct_fees\" for the \"CheckingAccount\" class.\n",
        "\n",
        "Answer >\n",
        "\n",
        ">"
      ],
      "metadata": {
        "id": "45y2mDonUVYi"
      }
    },
    {
      "cell_type": "code",
      "source": [
        "# creation of base class BankAccount\n",
        "\n",
        "class BankAccount:\n",
        "  #class variables which can be changed in future depending on custom need like interest varies based on RBI\n",
        "  interest=0.03\n",
        "  fees=100\n",
        "  def __init__(self,account_number,balance):\n",
        "    self.account_number=account_number\n",
        "    self.balance=balance\n",
        "\n",
        "\n",
        "\n",
        "# creation of class SavingAccount\n",
        "\n",
        "class SavingsAccount(BankAccount):\n",
        "  def calculate_interest(self):\n",
        "    return (f\"Your Saving account will fetch annual interest of {self.balance*SavingsAccount.interest} on your {self.balance} amount\")\n",
        "\n",
        "\n",
        "# creation of class CheckingAccount\n",
        "\n",
        "class CheckingAccount(BankAccount):\n",
        "  def deduct_fees(self):\n",
        "    return (f\"Your Checking account have annual fees of {CheckingAccount.fees}\")\n",
        "\n",
        "\n",
        "\n",
        "# creation of object of Saving account and Checking account class.\n",
        "\n",
        "my_saving=SavingsAccount(123,100)\n",
        "\n",
        "print(my_saving.calculate_interest())\n",
        "\n",
        "my_checking=CheckingAccount(100,10000)\n",
        "print(my_checking.deduct_fees())\n"
      ],
      "metadata": {
        "colab": {
          "base_uri": "https://localhost:8080/"
        },
        "id": "UjXe7d83UIkd",
        "outputId": "9d7c9dcb-5ba5-428c-9b0b-444aa99a7c62"
      },
      "execution_count": null,
      "outputs": [
        {
          "output_type": "stream",
          "name": "stdout",
          "text": [
            "Your Saving account will fetch annual interest of 3.0 on your 100 amount\n",
            "Your Checking account have annual fees of 100\n"
          ]
        }
      ]
    },
    {
      "cell_type": "code",
      "source": [],
      "metadata": {
        "id": "A9X2E-ywUklj"
      },
      "execution_count": null,
      "outputs": []
    }
  ]
}